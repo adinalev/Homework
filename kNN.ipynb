{
  "nbformat": 4,
  "nbformat_minor": 0,
  "metadata": {
    "colab": {
      "provenance": [],
      "include_colab_link": true
    },
    "kernelspec": {
      "name": "python3",
      "display_name": "Python 3"
    },
    "language_info": {
      "name": "python"
    }
  },
  "cells": [
    {
      "cell_type": "markdown",
      "metadata": {
        "id": "view-in-github",
        "colab_type": "text"
      },
      "source": [
        "<a href=\"https://colab.research.google.com/github/adinalev/Homework/blob/main/kNN.ipynb\" target=\"_parent\"><img src=\"https://colab.research.google.com/assets/colab-badge.svg\" alt=\"Open In Colab\"/></a>"
      ]
    },
    {
      "cell_type": "markdown",
      "metadata": {
        "id": "PELNEMlpx2Ri"
      },
      "source": [
        "Import the libraries math (for square root and absolute value) and pandas and numpy for reading csv files."
      ]
    },
    {
      "cell_type": "code",
      "metadata": {
        "id": "mkYTODtExydl"
      },
      "source": [
        "import math\n",
        "import pandas as pd\n",
        "import numpy as np"
      ],
      "execution_count": 1,
      "outputs": []
    },
    {
      "cell_type": "markdown",
      "metadata": {
        "id": "zCgb1pGFx8od"
      },
      "source": [
        "Make an untagged vector, point, and two tagged vectors, data1 and data2:"
      ]
    },
    {
      "cell_type": "code",
      "metadata": {
        "id": "Ifbww56byViT"
      },
      "source": [
        "point = [1, 0, 0, '?'] #(an unknown tag)\n",
        "data1 = [1, 1, 1, 'M']\n",
        "data2 = [1, 3, 0, 'F']\n"
      ],
      "execution_count": 2,
      "outputs": []
    },
    {
      "cell_type": "markdown",
      "metadata": {
        "id": "2hiHzqnsyhW2"
      },
      "source": [
        "Write code to separate the data (X) from the tag (Y).  Your output should be:\n",
        "\n",
        "The vector [1, 1, 1] has tag M\n",
        "\n",
        "The vector [1, 3, 0] has tag F\n"
      ]
    },
    {
      "cell_type": "code",
      "metadata": {
        "id": "CdgKt99HyaKT",
        "colab": {
          "base_uri": "https://localhost:8080/"
        },
        "outputId": "b1bb6d70-db79-4267-801c-5250e5ecaa0c"
      },
      "source": [
        "print(\"The vector \" , data1[0:-1], \" has tag \", data1[-1])"
      ],
      "execution_count": 3,
      "outputs": [
        {
          "output_type": "stream",
          "name": "stdout",
          "text": [
            "The vector  [1, 1, 1]  has tag  M\n"
          ]
        }
      ]
    },
    {
      "cell_type": "markdown",
      "metadata": {
        "id": "Nknnav39yb8C"
      },
      "source": [
        "Now let's classify the point as either M or F.  We'll do this by setting k = 1 and using the Euclidean distance.  We'll define that as:"
      ]
    },
    {
      "cell_type": "code",
      "metadata": {
        "id": "gT0HxYoxzG_-"
      },
      "source": [
        "def euclideanDistance(instance1, instance2, length):\n",
        "   distance = 0\n",
        "   for x in range(length):\n",
        "         #print ('x is ' , x)\n",
        "         num1=float(instance1[x])\n",
        "         num2=float(instance2[x])\n",
        "         distance = distance + pow(num1-num2, 2)\n",
        "   return math.sqrt(distance)\n"
      ],
      "execution_count": 4,
      "outputs": []
    },
    {
      "cell_type": "markdown",
      "metadata": {
        "id": "RhO3w2O4zKG8"
      },
      "source": [
        "Now, find out the distance between data1 and point and data2 and point. Output what the tag should be using euclideanDistance."
      ]
    },
    {
      "cell_type": "code",
      "metadata": {
        "id": "rzHsm2KezPie",
        "colab": {
          "base_uri": "https://localhost:8080/"
        },
        "outputId": "9fc4149c-b84a-4d47-f47f-08e58d5433ce"
      },
      "source": [
        "print(euclideanDistance(data1,point,3))"
      ],
      "execution_count": 5,
      "outputs": [
        {
          "output_type": "stream",
          "name": "stdout",
          "text": [
            "1.4142135623730951\n"
          ]
        }
      ]
    },
    {
      "cell_type": "markdown",
      "metadata": {
        "id": "bImk9yPazRCS"
      },
      "source": [
        "Now, let's get more data from a file, myFile.csv. This code will read it for us:"
      ]
    },
    {
      "cell_type": "code",
      "metadata": {
        "id": "xeInyfvYzbKj"
      },
      "source": [
        "url = 'https://github.com/rosenfa/ai/blob/master/myFile.csv?raw=true'\n",
        "df=pd.read_csv(url,  header=0)\n",
        "#put data in dataset without header line\n",
        "dataset = np.array(df)"
      ],
      "execution_count": 6,
      "outputs": []
    },
    {
      "cell_type": "code",
      "source": [
        "dataset"
      ],
      "metadata": {
        "colab": {
          "base_uri": "https://localhost:8080/"
        },
        "id": "aMcJhY1aqfVH",
        "outputId": "752e5fa5-3164-4a86-ce5f-eb86573da466"
      },
      "execution_count": 7,
      "outputs": [
        {
          "output_type": "execute_result",
          "data": {
            "text/plain": [
              "array([[0, 1, 2, 'F'],\n",
              "       [1, 5, 6, 'F'],\n",
              "       [1, 40, 1, 'M'],\n",
              "       [2, 2, 2, 'F'],\n",
              "       [0, 1, 20, 'M'],\n",
              "       [1, 5, 6, 'M'],\n",
              "       [1, 4, 1, 'M'],\n",
              "       [2, 22, 2, 'F'],\n",
              "       [2, 23, 2, 'M'],\n",
              "       [2, 24, 2, 'M']], dtype=object)"
            ]
          },
          "metadata": {},
          "execution_count": 7
        }
      ]
    },
    {
      "cell_type": "markdown",
      "metadata": {
        "id": "X_1JLdAEzdhu"
      },
      "source": [
        "Show that you understand what you read by:\n",
        "\n",
        "1. Printing the first two vectors in the file\n",
        "2. Printing the Euclidean distance between those two vectors\n",
        "\n",
        "Here is some code which I think might help get you on your way!"
      ]
    },
    {
      "cell_type": "code",
      "metadata": {
        "id": "e4QT_37TzuWr",
        "colab": {
          "base_uri": "https://localhost:8080/"
        },
        "outputId": "fafe8aec-ed7b-4238-e65d-efdbab2defed"
      },
      "source": [
        "print(len(dataset))\n",
        "print(euclideanDistance(dataset[0],dataset[1],3))"
      ],
      "execution_count": 8,
      "outputs": [
        {
          "output_type": "stream",
          "name": "stdout",
          "text": [
            "10\n",
            "5.744562646538029\n"
          ]
        }
      ]
    },
    {
      "cell_type": "markdown",
      "metadata": {
        "id": "Mw03nhZuEyUw"
      },
      "source": [
        "Now assume you have a new value for point:\n",
        "\n",
        "[0,0,100]\n",
        "\n",
        "How would you classify this vector using the Euclidean distance function given all of the vectors in the file?\n",
        "\n",
        "In order to help here is a hint:  \n",
        "\n",
        "We suggest defining some type of data struction to store different vectors' distances and their tags like this:"
      ]
    },
    {
      "cell_type": "code",
      "metadata": {
        "id": "oh8ym0_SE7Rb"
      },
      "source": [
        "point=[0,0,100]\n",
        "class distClass:\n",
        "    dist = -1 #distance of current point from test point\n",
        "    tag = '-' #tag of current point\n"
      ],
      "execution_count": 9,
      "outputs": []
    },
    {
      "cell_type": "markdown",
      "metadata": {
        "id": "-KZR5lxOFP2v"
      },
      "source": [
        "You can then add vector distances like this:"
      ]
    },
    {
      "cell_type": "code",
      "metadata": {
        "id": "hdFwOHcCFScU"
      },
      "source": [
        "eucDistances = [] # list of distances, will hold objects of type distClass\n",
        "\n",
        "#temp=dataset[1]\n",
        "# label=temp[-1]\n",
        "# d=euclideanDistance(point,temp,3)\n",
        "# print(\"The distances between \" , point , \" and \" , temp,  \" is \" , str(d))\n",
        "# print(\" and the label is \" + label)\n",
        "# obj = distClass() #one record's distance and tag\n",
        "# obj.dist=d\n",
        "# obj.tag=label\n",
        "# eucDistances.append(obj)\n"
      ],
      "execution_count": 10,
      "outputs": []
    },
    {
      "cell_type": "markdown",
      "source": [
        "Write a function that will calculate the euc distances between every other place in the array"
      ],
      "metadata": {
        "id": "KMMGsM5e6O83"
      }
    },
    {
      "cell_type": "code",
      "source": [
        "def find_euc_distances(comp_array, original, indices):  # indices should be 3 for euc distance\n",
        "  array_len = len(comp_array)\n",
        "  distance = 0\n",
        "  return_list = []\n",
        "  for i in range(array_len):\n",
        "    distance = euclideanDistance(comp_array[i], original, indices)\n",
        "    obj = distClass()\n",
        "    obj.dist = distance\n",
        "    obj.tag = comp_array[i][-1]\n",
        "    return_list.append(obj)\n",
        "  return return_list\n",
        "\n",
        "eucDistances = find_euc_distances(dataset, point, 3)\n"
      ],
      "metadata": {
        "id": "1IPtt7-T6EhW"
      },
      "execution_count": 11,
      "outputs": []
    },
    {
      "cell_type": "code",
      "metadata": {
        "id": "OTJBcLSJa8SR"
      },
      "source": [
        "# eucDistances[3].dist"
      ],
      "execution_count": 12,
      "outputs": []
    },
    {
      "cell_type": "markdown",
      "metadata": {
        "id": "67seTigUFbW7"
      },
      "source": [
        "and sort them like this:"
      ]
    },
    {
      "cell_type": "code",
      "metadata": {
        "id": "J0rEdJXKFctw"
      },
      "source": [
        "eucDistances.sort(key=lambda x: x.dist)"
      ],
      "execution_count": 13,
      "outputs": []
    },
    {
      "cell_type": "markdown",
      "metadata": {
        "id": "eWzp7vM9FgLm"
      },
      "source": [
        "Questions:\n",
        "\n",
        "1. What is the label for point if k=1?\n",
        "2. What is the label for point if k=3?\n",
        "3. Would the result be different if we used a different distance function like Hamming or Manhattan?"
      ]
    },
    {
      "cell_type": "code",
      "source": [
        "def assign_label(k, comp_list):\n",
        "  sumF = 0\n",
        "  sumM = 0\n",
        "  max_iterations = k\n",
        "  for item in comp_list:\n",
        "    if (item.tag == 'F'):\n",
        "      sumF = sumF + 1\n",
        "    else:\n",
        "      sumM = sumM + 1\n",
        "    max_iterations = max_iterations - 1\n",
        "    if (max_iterations == 0):\n",
        "      break\n",
        "  if sumF >= sumM:\n",
        "    return 'F'\n",
        "  else:\n",
        "    return 'M'\n",
        "\n",
        "\n",
        "print(\"The label for the point if k=1 and Euclidean is: \" + assign_label(1, eucDistances));\n",
        "print(\"The label for the point if k=3 and Euclidean is: \" + assign_label(3, eucDistances));\n"
      ],
      "metadata": {
        "colab": {
          "base_uri": "https://localhost:8080/"
        },
        "id": "OUpuf8yn1V7S",
        "outputId": "174f1ac9-3105-48f9-e883-eb0d239ea725"
      },
      "execution_count": 14,
      "outputs": [
        {
          "output_type": "stream",
          "name": "stdout",
          "text": [
            "The label for the point if k=1 and Euclidean is: M\n",
            "The label for the point if k=3 and Euclidean is: M\n"
          ]
        }
      ]
    },
    {
      "cell_type": "code",
      "metadata": {
        "id": "tbHJ5OS5GeCw"
      },
      "source": [
        "#Add code with functions that implement Hamming and Manhattan distances and test\n",
        "#what the label will be for k=1 and k=3 for all possibilities\n",
        "#(6 total: 2 Euclidean, 2 Hamming and 2 Manhattan)"
      ],
      "execution_count": 15,
      "outputs": []
    },
    {
      "cell_type": "code",
      "source": [
        "# copied from euc and changed a few things\n",
        "def manhattanDistance(instance1, instance2, length):\n",
        "   distance = 0\n",
        "   for x in range(length):\n",
        "         #print ('x is ' , x)\n",
        "         num1=float(instance1[x])\n",
        "         num2=float(instance2[x])\n",
        "         distance = distance + abs(num1-num2)\n",
        "   return distance"
      ],
      "metadata": {
        "id": "wo-Nc-tCBVy5"
      },
      "execution_count": 16,
      "outputs": []
    },
    {
      "cell_type": "code",
      "source": [
        "def find_man_distances(comp_array, original, indices):  # indices should be 3 for euc distance\n",
        "  array_len = len(comp_array)\n",
        "  distance = 0\n",
        "  return_list = []\n",
        "  for i in range(array_len):\n",
        "    distance = manhattanDistance(comp_array[i], original, indices)\n",
        "    obj = distClass()\n",
        "    obj.dist = distance\n",
        "    obj.tag = comp_array[i][-1]\n",
        "    return_list.append(obj)\n",
        "  return return_list\n",
        "\n",
        "manDistances = []\n",
        "manDistances = find_man_distances(dataset, point, 3)"
      ],
      "metadata": {
        "id": "q_D3th32Cij4"
      },
      "execution_count": 17,
      "outputs": []
    },
    {
      "cell_type": "code",
      "source": [
        "def hammingDistance(instance1, instance2, length):\n",
        "   distance = 0\n",
        "   for x in range(length):\n",
        "         #print ('x is ' , x)\n",
        "         num1=float(instance1[x])\n",
        "         num2=float(instance2[x])\n",
        "         if (num1 != num2):\n",
        "            distance += 1\n",
        "   return distance"
      ],
      "metadata": {
        "id": "9pUTJ9yaB6PL"
      },
      "execution_count": 18,
      "outputs": []
    },
    {
      "cell_type": "code",
      "source": [
        "def find_ham_distances(comp_array, original, indices):  # indices should be 3 for euc distance\n",
        "  array_len = len(comp_array)\n",
        "  distance = 0\n",
        "  return_list = []\n",
        "  for i in range(array_len):\n",
        "    distance = hammingDistance(comp_array[i], original, indices)\n",
        "    obj = distClass()\n",
        "    obj.dist = distance\n",
        "    obj.tag = comp_array[i][-1]\n",
        "    return_list.append(obj)\n",
        "  return return_list\n",
        "\n",
        "hamDistances = find_ham_distances(dataset, point, 3)"
      ],
      "metadata": {
        "id": "R8S9X3xICqfh"
      },
      "execution_count": 19,
      "outputs": []
    },
    {
      "cell_type": "markdown",
      "metadata": {
        "id": "o-XsqlSRVyEX"
      },
      "source": [
        "Up until here is a simplified version of the homework.\n",
        "Below here is the work for the part we will be checking as the basis of your grade:"
      ]
    },
    {
      "cell_type": "markdown",
      "metadata": {
        "id": "7KPzkCfLGxDK"
      },
      "source": [
        "Now let's look at some bigger files:\n",
        "\n",
        "1. mytrain.csv (for training the model)\n",
        "2. mytest.csv (for testing)\n"
      ]
    },
    {
      "cell_type": "code",
      "metadata": {
        "id": "menQ9SEoG_Ag"
      },
      "source": [
        "url = 'https://github.com/rosenfa/ai/blob/master/mytrain.csv?raw=true'\n",
        "train_data = np.array(pd.read_csv(url,  header=0))\n",
        "url = 'https://github.com/rosenfa/ai/blob/master/mytest.csv?raw=true'\n",
        "test_data = np.array(pd.read_csv(url,  header=0))"
      ],
      "execution_count": 20,
      "outputs": []
    },
    {
      "cell_type": "code",
      "metadata": {
        "id": "ej1wLymKHPnT",
        "colab": {
          "base_uri": "https://localhost:8080/"
        },
        "outputId": "4bb6c79d-1249-40b0-bd98-31699faad8eb"
      },
      "source": [
        "print(train_data.shape)# number of records and features\n",
        "print(train_data)"
      ],
      "execution_count": 21,
      "outputs": [
        {
          "output_type": "stream",
          "name": "stdout",
          "text": [
            "(100, 30)\n",
            "[[0.317251 0.540016 0.150514 ... 0.0 0.212007 'F']\n",
            " [3.882181 0.0 0.0 ... 0.0 0.0 'F']\n",
            " [1.790708 0.0 0.0 ... 0.0 0.0 'F']\n",
            " ...\n",
            " [0.0 0.0 0.0 ... 0.0 0.0 'M']\n",
            " [0.0 0.0 0.0 ... 0.0 0.0 'M']\n",
            " [0.0 0.0 0.0 ... 0.0 0.0 'F']]\n"
          ]
        }
      ]
    },
    {
      "cell_type": "code",
      "metadata": {
        "id": "v9YKMlcPHVWU",
        "colab": {
          "base_uri": "https://localhost:8080/"
        },
        "outputId": "b1334010-e01b-4c14-86ec-c72ae244b2b4"
      },
      "source": [
        "print(test_data.shape)# number of records and features\n",
        "print(test_data)"
      ],
      "execution_count": 22,
      "outputs": [
        {
          "output_type": "stream",
          "name": "stdout",
          "text": [
            "(100, 30)\n",
            "[[2.85985 0.66275 0.0 ... 0.995289 0.0 'F']\n",
            " [0.0 12.998726 0.0 ... 0.0 0.0 'F']\n",
            " [13.231318 0.0 0.0 ... 0.0 0.0 'F']\n",
            " ...\n",
            " [0.0 0.0 0.0 ... 0.0 0.0 'M']\n",
            " [1.688611 0.0 3.204529 ... 0.0 0.0 'M']\n",
            " [0.0 0.0 0.0 ... 0.0 0.0 'M']]\n"
          ]
        }
      ]
    },
    {
      "cell_type": "markdown",
      "metadata": {
        "id": "hsjBpdObIB7d"
      },
      "source": [
        "I hope by now you understand where we are going with this :)\n",
        "\n",
        "Now implement the knn code with 3 different values for k:\n",
        "1. k = 1\n",
        "2. k = 7\n",
        "3. k = 15\n",
        "\n",
        "and at first use the Euclidean distance.\n",
        "Classify each of the vectors in the test_data dataset using the training data from train_data.  Which value for k did the best?  What accuracy did it give you?\n",
        "\n",
        "Now see if using Hamming or Manhattan distance give any better results for the same values of k.  \n",
        "\n",
        "Once you are done, you should have a total of 9 different results:\n",
        "\n",
        "1. Three results for the different value of k using the Euclidean Distance\n",
        "2. Three results for the different value of k using the Hamming Distance\n",
        "3. Three results for the different value of k using the Manhattan Distance\n",
        "\n",
        "Hint: I strongly suggest you base yourself on the code you've seen until this point so you don't have to reinvent the wheel!"
      ]
    },
    {
      "cell_type": "code",
      "metadata": {
        "id": "dIyZbN4kJBrO"
      },
      "source": [
        "#Add code here\n",
        "# kNN function\n",
        "def kNN(train_data, test_data, k, distance_func):\n",
        "    predictions = []\n",
        "    # compare all vectors in test to every vector in train\n",
        "    for test_vector in test_data:  # iterate through the test vectors\n",
        "        distances = []\n",
        "        for train_vector in train_data:  # iterate through the train vectors\n",
        "            dist = distance_func(test_vector, train_vector, len(train_vector) - 1)  # find the distance btwn the vectors using the given distance function\n",
        "            obj = distClass()\n",
        "            obj.dist = dist;\n",
        "            obj.tag = train_vector[-1]\n",
        "            distances.append(obj)  # add the distClass object --> (distance, F/M)\n",
        "        distances.sort(key=lambda x: x.dist)  # sort distances based on distance (first field)\n",
        "        predictions.append(assign_label(k, distances))\n",
        "    return predictions"
      ],
      "execution_count": 23,
      "outputs": []
    },
    {
      "cell_type": "code",
      "source": [
        "# Function to assign label (F/M) based on k nearest neighbors\n",
        "def assign_label(k, comp_list):  # k is the amount of neighbors we are basing our decision off of\n",
        "    sumF = 0\n",
        "    sumM = 0\n",
        "    for item in comp_list[:k]:\n",
        "        if item.tag == 'F':\n",
        "            sumF += 1\n",
        "        else:\n",
        "            sumM += 1\n",
        "    return 'F' if sumF >= sumM else 'M' # return whichever gender is the most in the kth first elements (those are the k nearest neighbors)"
      ],
      "metadata": {
        "id": "LpQcN2DYIJ7g"
      },
      "execution_count": 24,
      "outputs": []
    },
    {
      "cell_type": "code",
      "source": [
        "# Function to calculate accuracy\n",
        "def calculate_accuracy(test_data, predictions):\n",
        "    correct = 0\n",
        "    for i in range(len(test_data)):\n",
        "        if test_data[i][-1] == predictions[i]:\n",
        "            correct += 1\n",
        "    return correct / len(test_data)"
      ],
      "metadata": {
        "id": "vHi3xmFSIcXK"
      },
      "execution_count": 25,
      "outputs": []
    },
    {
      "cell_type": "code",
      "source": [
        "ks = [1, 7, 15]\n",
        "\n",
        "# Test different distance functions\n",
        "for k in ks:\n",
        "    print(f\"Results for k = {k} using Euclidean Distance\")\n",
        "    predictions = kNN(train_data, test_data, k, euclideanDistance)\n",
        "    accuracy = calculate_accuracy(test_data, predictions)\n",
        "    print(f\"Accuracy: {accuracy:.2f}\\n\")\n",
        "\n",
        "    print(f\"Results for k = {k} using Manhattan Distance\")\n",
        "    predictions = kNN(train_data, test_data, k, manhattanDistance)\n",
        "    accuracy = calculate_accuracy(test_data, predictions)\n",
        "    print(f\"Accuracy: {accuracy:.2f}\\n\")\n",
        "\n",
        "    print(f\"Results for k = {k} using Hamming Distance\")\n",
        "    predictions = kNN(train_data, test_data, k, hammingDistance)\n",
        "    accuracy = calculate_accuracy(test_data, predictions)\n",
        "    print(f\"Accuracy: {accuracy:.2f}\\n\")\n",
        "\n",
        "# dist_functions = [euclideanDistance, manhattanDistance,hammingDistance]\n",
        "# dist_type_names = [\"Euclidean\", \"Manhattan\", \"Hamming\"]\n",
        "\n",
        "# for d1, d2 in dist_functions, dist_type_names:\n",
        "#     print(f\"Results for Euclidean Distance\")\n",
        "#     predictions = kNN(train_data, test_data, k, euclideanDistance)\n",
        "#     accuracy = calculate_accuracy(test_data, predictions)\n",
        "#     print(f\"Accuracy: {accuracy:.2f}\\n\")\n",
        "\n",
        "#     print(f\"Results for k = {k} using Manhattan Distance\")\n",
        "#     predictions = kNN(train_data, test_data, k, manhattanDistance)\n",
        "#     accuracy = calculate_accuracy(test_data, predictions)\n",
        "#     print(f\"Accuracy: {accuracy:.2f}\\n\")\n",
        "\n",
        "#     print(f\"Results for k = {k} using Hamming Distance\")\n",
        "#     predictions = kNN(train_data, test_data, k, hammingDistance)\n",
        "#     accuracy = calculate_accuracy(test_data, predictions)\n",
        "#     print(f\"Accuracy: {accuracy:.2f}\\n\")"
      ],
      "metadata": {
        "colab": {
          "base_uri": "https://localhost:8080/"
        },
        "id": "cFc_KXXOhiKq",
        "outputId": "f8817f1f-ca5d-40c8-9461-aa3e506889ff"
      },
      "execution_count": 26,
      "outputs": [
        {
          "output_type": "stream",
          "name": "stdout",
          "text": [
            "Results for k = 1 using Euclidean Distance\n",
            "Accuracy: 0.50\n",
            "\n",
            "Results for k = 1 using Manhattan Distance\n",
            "Accuracy: 0.61\n",
            "\n",
            "Results for k = 1 using Hamming Distance\n",
            "Accuracy: 0.61\n",
            "\n",
            "Results for k = 7 using Euclidean Distance\n",
            "Accuracy: 0.74\n",
            "\n",
            "Results for k = 7 using Manhattan Distance\n",
            "Accuracy: 0.63\n",
            "\n",
            "Results for k = 7 using Hamming Distance\n",
            "Accuracy: 0.55\n",
            "\n",
            "Results for k = 15 using Euclidean Distance\n",
            "Accuracy: 0.70\n",
            "\n",
            "Results for k = 15 using Manhattan Distance\n",
            "Accuracy: 0.69\n",
            "\n",
            "Results for k = 15 using Hamming Distance\n",
            "Accuracy: 0.57\n",
            "\n"
          ]
        }
      ]
    },
    {
      "cell_type": "markdown",
      "metadata": {
        "id": "HD2PnNuTQ175"
      },
      "source": [
        "Grade Basis:\n",
        "\n",
        "80% for correct answers (and yes, there are possibilities that multiple answers are correct-- especially for cases of ties).\n",
        "\n",
        "20% : Documentation and easily readable code\n",
        "\n",
        "Please publish your final Notebook in your Github directory.\n",
        "\n",
        "The homework assignment is due by June 2nd.\n"
      ]
    }
  ]
}